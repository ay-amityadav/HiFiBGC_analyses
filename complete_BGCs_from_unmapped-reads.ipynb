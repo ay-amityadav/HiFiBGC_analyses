{
 "cells": [
  {
   "cell_type": "code",
   "execution_count": 1,
   "id": "735b65aa-d21d-4aaa-8a31-272a8afee6d0",
   "metadata": {},
   "outputs": [],
   "source": [
    "# Run this notebook with `dna_features_viewer` kernel\n",
    "\n",
    "\"\"\"\n",
    "Select complete BGCs from unmapped_reads from four datasets\n",
    "\"\"\"\n",
    "\n",
    "import pandas as pd"
   ]
  },
  {
   "cell_type": "code",
   "execution_count": 2,
   "id": "55215be4-c1bd-4295-a511-7bfd534f9656",
   "metadata": {},
   "outputs": [],
   "source": [
    "# Below function taken from https://github.com/nickbhat/bgc_tran/blob/0111c0448918accf2b9d91654f08ff3c8502ff39/Fig3-Final.ipynb\n",
    "def plot_gbk(gbk_file):\n",
    "    from Bio import SeqIO\n",
    "    from dna_features_viewer import GraphicFeature, GraphicRecord\n",
    "\n",
    "    colors = {'biosynthetic': \"#850000\",\n",
    "         'biosynthetic-additional': \"#ea8686\",\n",
    "         'other': \"#dbdbdb\",\n",
    "         'regulatory': \"#7cd369\",\n",
    "         'resistance': \"#307321\",\n",
    "         'transport': \"#3c85cd\"}\n",
    "\n",
    "    genes = []\n",
    "    length = 0\n",
    "    last_end = 0\n",
    "\n",
    "    for record in SeqIO.parse(gbk_file, \"genbank\"):\n",
    "        for feature in record.features:\n",
    "            if feature.type == 'CDS':\n",
    "                \n",
    "                try:\n",
    "                    if feature.qualifiers['gene_kind'][0] == 'biosynthetic':\n",
    "                        print(feature)\n",
    "                except:\n",
    "                    continue\n",
    "                #print(feature)\n",
    "                try:\n",
    "                    color = colors[feature.qualifiers['gene_kind'][0]]\n",
    "                except:\n",
    "                    color = colors['other']\n",
    "\n",
    "                if feature.location.start < last_end:\n",
    "                    start = last_end + 1  \n",
    "                else:\n",
    "                    start = feature.location.start\n",
    "\n",
    "                genes.append(GraphicFeature(start=start, end=feature.location.end, strand=feature.location.strand, color=color))\n",
    "\n",
    "                if feature.location.end > length:\n",
    "                    length = feature.location.end\n",
    "                last_end = feature.location.end\n",
    "\n",
    "                continue\n",
    "\n",
    "    record = GraphicRecord(sequence_length=length, features=genes)\n",
    "    record.plot(figure_width=15) "
   ]
  },
  {
   "cell_type": "code",
   "execution_count": 3,
   "id": "858bb555-fe79-4d67-aa63-c503a6ec0d23",
   "metadata": {},
   "outputs": [
    {
     "data": {
      "text/html": [
       "<div>\n",
       "<style scoped>\n",
       "    .dataframe tbody tr th:only-of-type {\n",
       "        vertical-align: middle;\n",
       "    }\n",
       "\n",
       "    .dataframe tbody tr th {\n",
       "        vertical-align: top;\n",
       "    }\n",
       "\n",
       "    .dataframe thead th {\n",
       "        text-align: right;\n",
       "    }\n",
       "</style>\n",
       "<table border=\"1\" class=\"dataframe\">\n",
       "  <thead>\n",
       "    <tr style=\"text-align: right;\">\n",
       "      <th></th>\n",
       "      <th>BGC_Id</th>\n",
       "      <th>Contig_Id</th>\n",
       "      <th>BGC_Length</th>\n",
       "      <th>Contig_Edge</th>\n",
       "      <th>BGC_Product</th>\n",
       "      <th>Family_Number</th>\n",
       "      <th>Representative_Member</th>\n",
       "    </tr>\n",
       "  </thead>\n",
       "  <tbody>\n",
       "  </tbody>\n",
       "</table>\n",
       "</div>"
      ],
      "text/plain": [
       "Empty DataFrame\n",
       "Columns: [BGC_Id, Contig_Id, BGC_Length, Contig_Edge, BGC_Product, Family_Number, Representative_Member]\n",
       "Index: []"
      ]
     },
     "execution_count": 3,
     "metadata": {},
     "output_type": "execute_result"
    }
   ],
   "source": [
    "df_bgc_all_metadata = pd.read_csv(\"HiFiBGC_0.1.13_Run/human.out/05_final_output/BGC_all_metadata.tsv\", sep='\\t')\n",
    "# Select complete BGCs from unmapped_reads\n",
    "df_bgc_all_metadata_subset = df_bgc_all_metadata[(df_bgc_all_metadata['Contig_Edge'] == False) & (df_bgc_all_metadata['BGC_Id'].apply(lambda x: x.split('.')[0]) == 'unmapped_reads')]\n",
    "df_bgc_all_metadata_subset"
   ]
  },
  {
   "cell_type": "code",
   "execution_count": 4,
   "id": "7c13542b-0729-4ef2-8c13-f6e1c7fcc29b",
   "metadata": {},
   "outputs": [
    {
     "data": {
      "text/html": [
       "<div>\n",
       "<style scoped>\n",
       "    .dataframe tbody tr th:only-of-type {\n",
       "        vertical-align: middle;\n",
       "    }\n",
       "\n",
       "    .dataframe tbody tr th {\n",
       "        vertical-align: top;\n",
       "    }\n",
       "\n",
       "    .dataframe thead th {\n",
       "        text-align: right;\n",
       "    }\n",
       "</style>\n",
       "<table border=\"1\" class=\"dataframe\">\n",
       "  <thead>\n",
       "    <tr style=\"text-align: right;\">\n",
       "      <th></th>\n",
       "      <th>BGC_Id</th>\n",
       "      <th>Contig_Id</th>\n",
       "      <th>BGC_Length</th>\n",
       "      <th>Contig_Edge</th>\n",
       "      <th>BGC_Product</th>\n",
       "      <th>Family_Number</th>\n",
       "      <th>Representative_Member</th>\n",
       "    </tr>\n",
       "  </thead>\n",
       "  <tbody>\n",
       "  </tbody>\n",
       "</table>\n",
       "</div>"
      ],
      "text/plain": [
       "Empty DataFrame\n",
       "Columns: [BGC_Id, Contig_Id, BGC_Length, Contig_Edge, BGC_Product, Family_Number, Representative_Member]\n",
       "Index: []"
      ]
     },
     "execution_count": 4,
     "metadata": {},
     "output_type": "execute_result"
    }
   ],
   "source": [
    "df_bgc_all_metadata = pd.read_csv(\"HiFiBGC_0.1.13_Run/sheep.out/05_final_output/BGC_all_metadata.tsv\", sep='\\t')\n",
    "# Select complete BGCs from unmapped_reads\n",
    "df_bgc_all_metadata_subset = df_bgc_all_metadata[(df_bgc_all_metadata['Contig_Edge'] == False) & (df_bgc_all_metadata['BGC_Id'].apply(lambda x: x.split('.')[0]) == 'unmapped_reads')]\n",
    "df_bgc_all_metadata_subset"
   ]
  },
  {
   "cell_type": "code",
   "execution_count": 5,
   "id": "729c4be9-2e25-4426-857e-020a3f3e3dce",
   "metadata": {},
   "outputs": [
    {
     "data": {
      "text/html": [
       "<div>\n",
       "<style scoped>\n",
       "    .dataframe tbody tr th:only-of-type {\n",
       "        vertical-align: middle;\n",
       "    }\n",
       "\n",
       "    .dataframe tbody tr th {\n",
       "        vertical-align: top;\n",
       "    }\n",
       "\n",
       "    .dataframe thead th {\n",
       "        text-align: right;\n",
       "    }\n",
       "</style>\n",
       "<table border=\"1\" class=\"dataframe\">\n",
       "  <thead>\n",
       "    <tr style=\"text-align: right;\">\n",
       "      <th></th>\n",
       "      <th>BGC_Id</th>\n",
       "      <th>Contig_Id</th>\n",
       "      <th>BGC_Length</th>\n",
       "      <th>Contig_Edge</th>\n",
       "      <th>BGC_Product</th>\n",
       "      <th>Family_Number</th>\n",
       "      <th>Representative_Member</th>\n",
       "    </tr>\n",
       "  </thead>\n",
       "  <tbody>\n",
       "  </tbody>\n",
       "</table>\n",
       "</div>"
      ],
      "text/plain": [
       "Empty DataFrame\n",
       "Columns: [BGC_Id, Contig_Id, BGC_Length, Contig_Edge, BGC_Product, Family_Number, Representative_Member]\n",
       "Index: []"
      ]
     },
     "execution_count": 5,
     "metadata": {},
     "output_type": "execute_result"
    }
   ],
   "source": [
    "df_bgc_all_metadata = pd.read_csv(\"HiFiBGC_0.1.13_Run/sludge.out/05_final_output/BGC_all_metadata.tsv\", sep='\\t')\n",
    "# Select complete BGCs from unmapped_reads\n",
    "df_bgc_all_metadata_subset = df_bgc_all_metadata[(df_bgc_all_metadata['Contig_Edge'] == False) & (df_bgc_all_metadata['BGC_Id'].apply(lambda x: x.split('.')[0]) == 'unmapped_reads')]\n",
    "df_bgc_all_metadata_subset"
   ]
  },
  {
   "cell_type": "code",
   "execution_count": 6,
   "id": "3fbda79d-1adf-480b-b9fb-6979f6e9bf94",
   "metadata": {
    "tags": []
   },
   "outputs": [
    {
     "data": {
      "text/html": [
       "<div>\n",
       "<style scoped>\n",
       "    .dataframe tbody tr th:only-of-type {\n",
       "        vertical-align: middle;\n",
       "    }\n",
       "\n",
       "    .dataframe tbody tr th {\n",
       "        vertical-align: top;\n",
       "    }\n",
       "\n",
       "    .dataframe thead th {\n",
       "        text-align: right;\n",
       "    }\n",
       "</style>\n",
       "<table border=\"1\" class=\"dataframe\">\n",
       "  <thead>\n",
       "    <tr style=\"text-align: right;\">\n",
       "      <th></th>\n",
       "      <th>BGC_Id</th>\n",
       "      <th>Contig_Id</th>\n",
       "      <th>BGC_Length</th>\n",
       "      <th>Contig_Edge</th>\n",
       "      <th>BGC_Product</th>\n",
       "      <th>Family_Number</th>\n",
       "      <th>Representative_Member</th>\n",
       "    </tr>\n",
       "  </thead>\n",
       "  <tbody>\n",
       "    <tr>\n",
       "      <th>1617</th>\n",
       "      <td>unmapped_reads.SRR15214153.245025.region001</td>\n",
       "      <td>unmapped_reads.SRR15214153.245025</td>\n",
       "      <td>20132</td>\n",
       "      <td>False</td>\n",
       "      <td>RRE-containing</td>\n",
       "      <td>1613</td>\n",
       "      <td>True</td>\n",
       "    </tr>\n",
       "  </tbody>\n",
       "</table>\n",
       "</div>"
      ],
      "text/plain": [
       "                                           BGC_Id  \\\n",
       "1617  unmapped_reads.SRR15214153.245025.region001   \n",
       "\n",
       "                              Contig_Id  BGC_Length  Contig_Edge  \\\n",
       "1617  unmapped_reads.SRR15214153.245025       20132        False   \n",
       "\n",
       "         BGC_Product  Family_Number  Representative_Member  \n",
       "1617  RRE-containing           1613                   True  "
      ]
     },
     "execution_count": 6,
     "metadata": {},
     "output_type": "execute_result"
    }
   ],
   "source": [
    "df_bgc_all_metadata = pd.read_csv(\"HiFiBGC_0.1.13_Run/chicken.out/05_final_output/BGC_all_metadata.tsv\", sep='\\t')\n",
    "# Select complete BGCs from unmapped_reads\n",
    "df_bgc_all_metadata_subset = df_bgc_all_metadata[(df_bgc_all_metadata['Contig_Edge'] == False) & (df_bgc_all_metadata['BGC_Id'].apply(lambda x: x.split('.')[0]) == 'unmapped_reads')]\n",
    "df_bgc_all_metadata_subset"
   ]
  },
  {
   "cell_type": "markdown",
   "id": "308e7f36-d2b5-40ce-aa08-b433685d4198",
   "metadata": {},
   "source": [
    "**Among 4 datasets (human, sludge, sheep and chicken), only chicken dataset has a complete BGC from unmapped_reads.**"
   ]
  },
  {
   "cell_type": "code",
   "execution_count": 7,
   "id": "89c9b612-2088-470c-8640-63379fa9f7fe",
   "metadata": {},
   "outputs": [
    {
     "name": "stdout",
     "output_type": "stream",
     "text": [
      "type: CDS\n",
      "location: [10000:10132](+)\n",
      "qualifiers:\n",
      "    Key: gene_functions, Value: ['biosynthetic (rule-based-clusters) RRE-containing: Ranthipeptide_rSAM_RRE']\n",
      "    Key: gene_kind, Value: ['biosynthetic']\n",
      "    Key: locus_tag, Value: ['ctg1918_22']\n",
      "    Key: sec_met_domain, Value: ['Ranthipeptide_rSAM_RRE (E-value: 4.8e-14, bitscore: 44.1, seeds: 20, tool: rule-based-clusters)']\n",
      "    Key: transl_table, Value: ['11']\n",
      "    Key: translation, Value: ['MIHTYTLFDKNIVLDVNSGAVFEFDGLAFDLLSRLKGAETAAG']\n",
      "\n"
     ]
    },
    {
     "data": {
      "image/png": "[encoded data removed]",
      "text/plain": [
       "<Figure size 1080x158.4 with 1 Axes>"
      ]
     },
     "metadata": {},
     "output_type": "display_data"
    }
   ],
   "source": [
    "# Plot complete BGC from unmapped_reads, found in chicken dataset\n",
    "item = 'unmapped_reads.SRR15214153.245025.region001'\n",
    "plot_gbk(f\"HiFiBGC_0.1.13_Run/chicken.out/05_final_output/BGC_all/{item}.gbk\")"
   ]
  },
  {
   "cell_type": "code",
   "execution_count": null,
   "id": "fb2d96e7-54a5-4ec2-9035-6cfa0a6e6045",
   "metadata": {},
   "outputs": [],
   "source": []
  }
 ],
 "metadata": {
  "kernelspec": {
   "display_name": "dna_features_viewer",
   "language": "python",
   "name": "dna_features_viewer"
  },
  "language_info": {
   "codemirror_mode": {
    "name": "ipython",
    "version": 3
   },
   "file_extension": ".py",
   "mimetype": "text/x-python",
   "name": "python",
   "nbconvert_exporter": "python",
   "pygments_lexer": "ipython3",
   "version": "3.11.5"
  }
 },
 "nbformat": 4,
 "nbformat_minor": 5
}
