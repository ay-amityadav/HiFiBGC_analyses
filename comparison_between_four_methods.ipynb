{
 "cells": [
  {
   "cell_type": "code",
   "execution_count": 1,
   "id": "71d9c56c-1c0d-4bfe-a642-a951619a5592",
   "metadata": {
    "tags": []
   },
   "outputs": [
    {
     "data": {
      "text/plain": [
       "DataTransformerRegistry.enable('default')"
      ]
     },
     "execution_count": 1,
     "metadata": {},
     "output_type": "execute_result"
    }
   ],
   "source": [
    "# Run this notebook with `Python 3` kernel\n",
    "\n",
    "\"\"\"\n",
    "Creates figures comparing four methods\n",
    "\"\"\"\n",
    "\n",
    "import pandas as pd\n",
    "import altair as alt\n",
    "\n",
    "from altair_saver import save\n",
    "alt.data_transformers.disable_max_rows()"
   ]
  },
  {
   "cell_type": "code",
   "execution_count": 4,
   "id": "fc5b7ab2-db7b-4da4-9842-8fccf6b2141c",
   "metadata": {},
   "outputs": [],
   "source": [
    "for env in ['sludge', 'chicken', 'human', 'sheep']:\n",
    "    df_four_methods_representative_bgc_count = pd.read_csv(f\"{env}/df_four_methods_representative_bgc_count.tsv\", sep='\\t')\n",
    "\n",
    "    df_four_methods_representative_bgc_count_melt = pd.melt(df_four_methods_representative_bgc_count, id_vars=['assembler_name'], value_vars=['representative_bgc_partial_count', 'representative_bgc_complete_count'])\n",
    "    df_four_methods_representative_bgc_count_melt = df_four_methods_representative_bgc_count_melt.replace({'representative_bgc_partial_count': 'Partial', \\\n",
    "                                                                                                            'representative_bgc_complete_count': 'Complete', \\\n",
    "                                                                                                            'hifibgc': 'HiFiBGC', \\\n",
    "                                                                                                            'hicanu': 'bgc_HiCanu', \\\n",
    "                                                                                                            'metaflye': 'bgc_metaFlye', \\\n",
    "                                                                                                            'hifiasm-meta': 'bgc_hifiasm-meta'\n",
    "                                                                                                          })\n",
    "\n",
    "    # Ordering in stack bars in below altair chart is implemented as suggested here https://stackoverflow.com/questions/66347857/sort-a-normalized-stacked-bar-chart-with-altair/66355902#66355902\n",
    "    order_in_stacked_bar = ['Complete', 'Partial']\n",
    "    domain = ['Complete', 'Partial']\n",
    "    #range_ = ['#f8766d', '#00bfc4']\n",
    "    range_ = ['#f8766d', '#00c467']\n",
    "    chart = alt.Chart(df_four_methods_representative_bgc_count_melt).mark_bar().encode(\n",
    "        alt.X('assembler_name:N', sort='y', axis=alt.Axis(title='Method', labelAngle=-45, labelFontSize=10, titleFontSize=12)),\n",
    "        alt.Y('value:Q', sort='y', axis=alt.Axis(title='Count of representative BGCs', labelFontSize=10, titleFontSize=12)),\n",
    "        alt.Color('variable:N', sort=order_in_stacked_bar, title='Complete/Partial', scale=alt.Scale(domain=domain, range=range_), \\\n",
    "                  legend=alt.Legend(\n",
    "                        orient='none', direction='vertical', titleAnchor='middle', legendX=85, legendY=75, labelFontSize=10, titleFontSize=12)\n",
    "                 ),\n",
    "        alt.Order('color_variable_sort_index:Q')\n",
    "    ).configure_scale(\n",
    "        bandPaddingInner=0.3 # for changing distance between bars\n",
    "    )\n",
    "\n",
    "    # Save plot\n",
    "    save(chart, f\"{env}/{env}_comparison_between_four_methods_bgc-count_and_partial-complete_updated.pdf\")"
   ]
  },
  {
   "cell_type": "code",
   "execution_count": 3,
   "id": "180b3da9-def8-4571-bb6a-7cb53bcd1fcb",
   "metadata": {
    "tags": []
   },
   "outputs": [],
   "source": [
    "for env in ['sludge', 'chicken', 'human', 'sheep']:\n",
    "    df_four_methods_metadata = pd.read_csv(f\"{env}/df_four_methods_bgc_all_metadata.tsv\", sep='\\t')\n",
    "    \n",
    "    df_four_methods_metadata = df_four_methods_metadata[df_four_methods_metadata['Representative_Member'] == True]\n",
    "    df_four_methods_metadata['Method_Name'] = df_four_methods_metadata['Method_Name'].replace({'hifibgc': 'HiFiBGC', \\\n",
    "                                                                                            'hicanu': 'bgc_HiCanu', \\\n",
    "                                                                                            'metaflye': 'bgc_metaFlye', \\\n",
    "                                                                                            'hifiasm-meta': 'bgc_hifiasm-meta'\n",
    "                                                                                    })\n",
    "    \n",
    "    domain = ['NRPS', 'Others', 'PKS-NRP_Hybrids', 'PKSI', 'PKSother', 'RiPPs', 'Saccharides', 'Terpene']\n",
    "    range_ = ['#0072B2', '#999999', '#56B4E9', '#009E73', '#F0E442', '#E69F00', '#D55E00', '#CC79A7']\n",
    "    \n",
    "    chart = alt.Chart(df_four_methods_metadata).mark_bar().encode(\n",
    "    alt.X('Method_Name:N', sort='y', axis=alt.Axis(title='Method', labelAngle=-45)),\n",
    "    alt.Y('count():Q', sort='y', axis=alt.Axis(title='Count of representative BGCs', labelFontSize=13, titleFontSize=14)),\n",
    "    color=alt.Color('BiG-SCAPE_class', scale=alt.Scale(domain=domain, range=range_))\n",
    "    ).configure_scale(\n",
    "        bandPaddingInner=0.3 # for changing distance between bars\n",
    "    )\n",
    "    \n",
    "    # Save plot\n",
    "    save(chart, f\"{env}/{env}_comparison_between_four_methods_bgc-type.pdf\")"
   ]
  }
 ],
 "metadata": {
  "kernelspec": {
   "display_name": "Python 3 (ipykernel)",
   "language": "python",
   "name": "python3"
  },
  "language_info": {
   "codemirror_mode": {
    "name": "ipython",
    "version": 3
   },
   "file_extension": ".py",
   "mimetype": "text/x-python",
   "name": "python",
   "nbconvert_exporter": "python",
   "pygments_lexer": "ipython3",
   "version": "3.9.7"
  }
 },
 "nbformat": 4,
 "nbformat_minor": 5
}
